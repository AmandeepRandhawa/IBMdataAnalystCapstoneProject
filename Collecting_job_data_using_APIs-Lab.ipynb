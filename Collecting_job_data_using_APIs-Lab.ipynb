{
 "cells": [
  {
   "cell_type": "markdown",
   "metadata": {},
   "source": [
    "<p style=\"text-align:center\">\n",
    "    <a href=\"https://skills.network\" target=\"_blank\">\n",
    "    <img src=\"https://cf-courses-data.s3.us.cloud-object-storage.appdomain.cloud/assets/logos/SN_web_lightmode.png\" width=\"200\" alt=\"Skills Network Logo\">\n",
    "    </a>\n",
    "</p>\n"
   ]
  },
  {
   "cell_type": "markdown",
   "metadata": {},
   "source": [
    "# **Collecting Job Data Using APIs**\n"
   ]
  },
  {
   "cell_type": "markdown",
   "metadata": {},
   "source": [
    "Estimated time needed: **45 to 60** minutes\n"
   ]
  },
  {
   "cell_type": "markdown",
   "metadata": {},
   "source": [
    "## Objectives\n"
   ]
  },
  {
   "cell_type": "markdown",
   "metadata": {},
   "source": [
    "After completing this lab, you will be able to:\n"
   ]
  },
  {
   "cell_type": "markdown",
   "metadata": {},
   "source": [
    "*   Collect job data from GitHub Jobs API\n",
    "*   Store the collected data into an excel spreadsheet.\n"
   ]
  },
  {
   "cell_type": "markdown",
   "metadata": {},
   "source": [
    "><strong>Note: Before starting with the assignment make sure to read all the instructions and then move ahead with the coding part.</strong>\n"
   ]
  },
  {
   "cell_type": "markdown",
   "metadata": {},
   "source": [
    "#### Instructions\n"
   ]
  },
  {
   "cell_type": "markdown",
   "metadata": {},
   "source": [
    "To run the actual lab, firstly you need to click on the [Jobs_API](https://cf-courses-data.s3.us.cloud-object-storage.appdomain.cloud/IBM-DA0321EN-SkillsNetwork/labs/module%201/Accessing%20Data%20Using%20APIs/Jobs_API.ipynb) notebook link. The file contains flask code which is required to run the Jobs API data.\n",
    "\n",
    "Now, to run the code in the file that opens up follow the below steps.\n",
    "\n",
    "Step1: Download the file. \n",
    "\n",
    "Step2: Upload it on the IBM Watson studio. (If IBM Watson Cloud service does not work in your system, follow the alternate Step 2 below)\n",
    "\n",
    "Step2(alternate): Upload it in your SN labs environment using the upload button which is highlighted in red in the image below:\n",
    "Remember to upload this Jobs_API file in the same folder as your current .ipynb file\n",
    "\n",
    "<img src=\"https://cf-courses-data.s3.us.cloud-object-storage.appdomain.cloud/IBM-DA0321EN-SkillsNetwork/labs/module%201/Accessing%20Data%20Using%20APIs/Upload.PNG\">\n",
    "\n",
    "Step3:  Run all the cells of the Jobs_API file. (Even if you receive an asterik sign after running the last cell, the code works fine.)\n",
    "\n",
    "If you want to learn more about flask, which is optional, you can click on this link [here](https://cf-courses-data.s3.us.cloud-object-storage.appdomain.cloud/IBM-DA0321EN-SkillsNetwork/labs/module%201/Accessing%20Data%20Using%20APIs/FLASK_API.md.html).\n",
    "\n",
    "Once you run the flask code, you can start with your assignment.\n"
   ]
  },
  {
   "cell_type": "markdown",
   "metadata": {},
   "source": [
    "## Dataset Used in this Assignment\n",
    "\n",
    "The dataset used in this lab comes from the following source: https://www.kaggle.com/promptcloud/jobs-on-naukricom under the under a **Public Domain license**.\n",
    "\n",
    "> Note: We are using a modified subset of that dataset for the lab, so to follow the lab instructions successfully please use the dataset provided with the lab, rather than the dataset from the original source.\n",
    "\n",
    "The original dataset is a csv. We have converted the csv to json as per the requirement of the lab.\n"
   ]
  },
  {
   "cell_type": "markdown",
   "metadata": {},
   "source": [
    "## Warm-Up Exercise\n"
   ]
  },
  {
   "cell_type": "markdown",
   "metadata": {},
   "source": [
    "Before you attempt the actual lab, here is a fully solved warmup exercise that will help you to learn how to access an API.\n"
   ]
  },
  {
   "cell_type": "markdown",
   "metadata": {},
   "source": [
    "Using an API, let us find out who currently are on the International Space Station (ISS).<br> The API at [http://api.open-notify.org/astros.json](http://api.open-notify.org/astros.json?utm_medium=Exinfluencer&utm_source=Exinfluencer&utm_content=000026UJ&utm_term=10006555&utm_id=NA-SkillsNetwork-Channel-SkillsNetworkCoursesIBMDA0321ENSkillsNetwork21426264-2021-01-01&cm_mmc=Email_Newsletter-_-Developer_Ed%2BTech-_-WW_WW-_-SkillsNetwork-Courses-IBM-DA0321EN-SkillsNetwork-21426264&cm_mmca1=000026UJ&cm_mmca2=10006555&cm_mmca3=M12345678&cvosrc=email.Newsletter.M12345678&cvo_campaign=000026UJ) gives us the information of astronauts currently on ISS in json format.<br>\n",
    "You can read more about this API at [http://open-notify.org/Open-Notify-API/People-In-Space/](http://open-notify.org/Open-Notify-API/People-In-Space?utm_medium=Exinfluencer&utm_source=Exinfluencer&utm_content=000026UJ&utm_term=10006555&utm_id=NA-SkillsNetwork-Channel-SkillsNetworkCoursesIBMDA0321ENSkillsNetwork21426264-2021-01-01&cm_mmc=Email_Newsletter-_-Developer_Ed%2BTech-_-WW_WW-_-SkillsNetwork-Courses-IBM-DA0321EN-SkillsNetwork-21426264&cm_mmca1=000026UJ&cm_mmca2=10006555&cm_mmca3=M12345678&cvosrc=email.Newsletter.M12345678&cvo_campaign=000026UJ)\n"
   ]
  },
  {
   "cell_type": "code",
   "execution_count": 1,
   "metadata": {
    "tags": []
   },
   "outputs": [],
   "source": [
    "import requests # you need this module to make an API call\n",
    "import pandas as pd"
   ]
  },
  {
   "cell_type": "code",
   "execution_count": 2,
   "metadata": {
    "tags": []
   },
   "outputs": [],
   "source": [
    "api_url = \"http://api.open-notify.org/astros.json\" # this url gives use the astronaut data"
   ]
  },
  {
   "cell_type": "code",
   "execution_count": 3,
   "metadata": {
    "tags": []
   },
   "outputs": [],
   "source": [
    "response = requests.get(api_url) # Call the API using the get method and store the\n",
    "                                # output of the API call in a variable called response."
   ]
  },
  {
   "cell_type": "code",
   "execution_count": 4,
   "metadata": {
    "tags": []
   },
   "outputs": [],
   "source": [
    "if response.ok:             # if all is well() no errors, no network timeouts)\n",
    "    data = response.json()  # store the result in json format in a variable called data\n",
    "                            # the variable data is of type dictionary."
   ]
  },
  {
   "cell_type": "code",
   "execution_count": 5,
   "metadata": {
    "tags": []
   },
   "outputs": [
    {
     "name": "stdout",
     "output_type": "stream",
     "text": [
      "{'people': [{'craft': 'ISS', 'name': 'Oleg Kononenko'}, {'craft': 'ISS', 'name': 'Nikolai Chub'}, {'craft': 'ISS', 'name': 'Tracy Caldwell Dyson'}, {'craft': 'ISS', 'name': 'Matthew Dominick'}, {'craft': 'ISS', 'name': 'Michael Barratt'}, {'craft': 'ISS', 'name': 'Jeanette Epps'}, {'craft': 'ISS', 'name': 'Alexander Grebenkin'}, {'craft': 'ISS', 'name': 'Butch Wilmore'}, {'craft': 'ISS', 'name': 'Sunita Williams'}, {'craft': 'Tiangong', 'name': 'Li Guangsu'}, {'craft': 'Tiangong', 'name': 'Li Cong'}, {'craft': 'Tiangong', 'name': 'Ye Guangfu'}], 'number': 12, 'message': 'success'}\n"
     ]
    }
   ],
   "source": [
    "print(data)   # print the data just to check the output or for debugging"
   ]
  },
  {
   "cell_type": "markdown",
   "metadata": {},
   "source": [
    "Print the number of astronauts currently on ISS.\n"
   ]
  },
  {
   "cell_type": "code",
   "execution_count": 6,
   "metadata": {
    "tags": []
   },
   "outputs": [
    {
     "name": "stdout",
     "output_type": "stream",
     "text": [
      "12\n"
     ]
    }
   ],
   "source": [
    "print(data.get('number'))"
   ]
  },
  {
   "cell_type": "markdown",
   "metadata": {},
   "source": [
    "Print the names of the astronauts currently on ISS.\n"
   ]
  },
  {
   "cell_type": "code",
   "execution_count": 7,
   "metadata": {
    "tags": []
   },
   "outputs": [
    {
     "name": "stdout",
     "output_type": "stream",
     "text": [
      "There are 12 astronauts on ISS\n",
      "And their names are :\n",
      "Oleg Kononenko\n",
      "Nikolai Chub\n",
      "Tracy Caldwell Dyson\n",
      "Matthew Dominick\n",
      "Michael Barratt\n",
      "Jeanette Epps\n",
      "Alexander Grebenkin\n",
      "Butch Wilmore\n",
      "Sunita Williams\n",
      "Li Guangsu\n",
      "Li Cong\n",
      "Ye Guangfu\n"
     ]
    }
   ],
   "source": [
    "astronauts = data.get('people')\n",
    "print(\"There are {} astronauts on ISS\".format(len(astronauts)))\n",
    "print(\"And their names are :\")\n",
    "for astronaut in astronauts:\n",
    "    print(astronaut.get('name'))"
   ]
  },
  {
   "cell_type": "markdown",
   "metadata": {},
   "source": [
    "Hope the warmup was helpful. Good luck with your next lab!\n"
   ]
  },
  {
   "cell_type": "markdown",
   "metadata": {},
   "source": [
    "## Lab: Collect Jobs Data using GitHub Jobs API\n"
   ]
  },
  {
   "cell_type": "markdown",
   "metadata": {},
   "source": [
    "### Objective: Determine the number of jobs currently open for various technologies  and for various locations\n"
   ]
  },
  {
   "cell_type": "markdown",
   "metadata": {},
   "source": [
    "Collect the number of job postings for the following locations using the API:\n",
    "\n",
    "* Los Angeles\n",
    "* New York\n",
    "* San Francisco\n",
    "* Washington DC\n",
    "* Seattle\n",
    "* Austin\n",
    "* Detroit\n"
   ]
  },
  {
   "cell_type": "code",
   "execution_count": 8,
   "metadata": {
    "tags": []
   },
   "outputs": [],
   "source": [
    "#Import required libraries\n",
    "import pandas as pd\n",
    "import json\n"
   ]
  },
  {
   "cell_type": "markdown",
   "metadata": {},
   "source": [
    "#### Write a function to get the number of jobs for the Python technology.<br>\n",
    "> Note: While using the lab you need to pass the **payload** information for the **params** attribute in the form of **key** **value** pairs.\n",
    "  Refer the ungraded **rest api lab** in the course **Python for Data Science, AI & Development**  <a href=\"https://www.coursera.org/learn/python-for-applied-data-science-ai/ungradedLti/P6sW8/hands-on-lab-access-rest-apis-request-http?utm_medium=Exinfluencer&utm_source=Exinfluencer&utm_content=000026UJ&utm_term=10006555&utm_id=NA-SkillsNetwork-Channel-SkillsNetworkCoursesIBMDA0321ENSkillsNetwork928-2022-01-01\">link</a>\n",
    "  \n",
    " ##### The keys in the json are \n",
    " * Job Title\n",
    " \n",
    " * Job Experience Required\n",
    " \n",
    " * Key Skills\n",
    " \n",
    " * Role Category\n",
    " \n",
    " * Location\n",
    " \n",
    " * Functional Area\n",
    " \n",
    " * Industry\n",
    " \n",
    " * Role \n",
    " \n",
    "You can also view  the json file contents  from the following <a href = \"https://cf-courses-data.s3.us.cloud-object-storage.appdomain.cloud/IBM-DA0321EN-SkillsNetwork/labs/module%201/Accessing%20Data%20Using%20APIs/jobs.json\">json</a> URL.\n",
    "\n"
   ]
  },
  {
   "cell_type": "code",
   "execution_count": 9,
   "metadata": {
    "tags": []
   },
   "outputs": [
    {
     "ename": "SyntaxError",
     "evalue": "invalid syntax (4241991263.py, line 1)",
     "output_type": "error",
     "traceback": [
      "\u001b[0;36m  File \u001b[0;32m\"/tmp/ipykernel_2427/4241991263.py\"\u001b[0;36m, line \u001b[0;32m1\u001b[0m\n\u001b[0;31m    Find the number of jobs postings for each of the technology in the above list.\u001b[0m\n\u001b[0m           ^\u001b[0m\n\u001b[0;31mSyntaxError\u001b[0m\u001b[0;31m:\u001b[0m invalid syntax\n"
     ]
    }
   ],
   "source": [
    "Find the number of jobs postings for each of the technology in the above list.\n",
    "Write the technology name and the number of jobs postings into the excel spreadsheet."
   ]
  },
  {
   "cell_type": "markdown",
   "metadata": {},
   "source": [
    "Calling the function for Python and checking if it works.\n"
   ]
  },
  {
   "cell_type": "code",
   "execution_count": null,
   "metadata": {
    "tags": []
   },
   "outputs": [],
   "source": [
    "get_number_of_jobs_T(\"Python\")"
   ]
  },
  {
   "cell_type": "markdown",
   "metadata": {},
   "source": [
    "#### Write a function to find number of jobs in US for a location of your choice\n"
   ]
  },
  {
   "cell_type": "code",
   "execution_count": null,
   "metadata": {
    "tags": []
   },
   "outputs": [],
   "source": [
    "import requests\n",
    "\n",
    "def get_number_of_jobs_L(location):\n",
    "    # Define the API URL\n",
    "    api_url = \"http://127.0.0.1:5000/data\"\n",
    "    \n",
    "    # Send a GET request with the location as a parameter\n",
    "    response = requests.get(api_url, params={'location': location})\n",
    "    \n",
    "    # Check if the request was successful\n",
    "    if response.status_code == 200:\n",
    "        # Parse the JSON response\n",
    "        data = response.json()\n",
    "        # Extract the number of jobs for the given location\n",
    "        number_of_jobs = data.get('number_of_jobs', 0)\n",
    "    else:\n",
    "        # Handle the case where the request was not successful\n",
    "        number_of_jobs = 0\n",
    "    \n",
    "    return location, number_of_jobs\n"
   ]
  },
  {
   "cell_type": "markdown",
   "metadata": {},
   "source": [
    "Call the function for Los Angeles and check if it is working.\n"
   ]
  },
  {
   "cell_type": "code",
   "execution_count": null,
   "metadata": {
    "tags": []
   },
   "outputs": [],
   "source": [
    "#your code goes\n",
    "\n",
    "\n",
    "def get_number_of_jobs_L():\n",
    "    # Hard-code the location as \"Los Angeles\"\n",
    "    location = \"Los Angeles\"\n",
    "    \n",
    "    # Define the API URL\n",
    "    api_url = \"http://127.0.0.1:5000/data\"\n",
    "    \n",
    "    # Send a GET request with the location as a parameter\n",
    "    response = requests.get(api_url, params={'location': location})\n",
    "    \n",
    "    # Check if the request was successful\n",
    "    if response.status_code == 200:\n",
    "        # Parse the JSON response\n",
    "        data = response.json()\n",
    "        # Extract the number of jobs for the given location\n",
    "        number_of_jobs = data.get('number_of_jobs', 0)\n",
    "    else:\n",
    "        # Handle the case where the request was not successful\n",
    "        number_of_jobs = 0\n",
    "    \n",
    "    return location, number_of_jobs\n",
    "\n",
    "   "
   ]
  },
  {
   "cell_type": "markdown",
   "metadata": {
    "tags": []
   },
   "source": [
    "### Store the results in an excel file\n"
   ]
  },
  {
   "cell_type": "markdown",
   "metadata": {},
   "source": [
    "Call the API for all the given technologies above and write the results in an excel spreadsheet.\n"
   ]
  },
  {
   "cell_type": "markdown",
   "metadata": {},
   "source": [
    "If you do not know how create excel file using python, double click here for **hints**.\n",
    "\n",
    "<!--\n",
    "\n",
    "from openpyxl import Workbook        # import Workbook class from module openpyxl\n",
    "wb=Workbook()                        # create a workbook object\n",
    "ws=wb.active                         # use the active worksheet\n",
    "ws.append(['Country','Continent'])   # add a row with two columns 'Country' and 'Continent'\n",
    "ws.append(['Eygpt','Africa'])        # add a row with two columns 'Egypt' and 'Africa'\n",
    "ws.append(['India','Asia'])          # add another row\n",
    "ws.append(['France','Europe'])       # add another row\n",
    "wb.save(\"countries.xlsx\")            # save the workbook into a file called countries.xlsx\n",
    "\n",
    "\n",
    "-->\n"
   ]
  },
  {
   "cell_type": "markdown",
   "metadata": {},
   "source": [
    "Create a python list of all technologies for which you need to find the number of jobs postings.\n"
   ]
  },
  {
   "cell_type": "code",
   "execution_count": null,
   "metadata": {
    "tags": []
   },
   "outputs": [],
   "source": [
    "#your code goes here\n",
    "technologies = [\n",
    "    \"Python\",\n",
    "    \"Java\",\n",
    "    \"JavaScript\",\n",
    "    \"C++\",\n",
    "    \"SQL\",\n",
    "    \"Ruby\",\n",
    "    \"HTML\",\n",
    "    \"CSS\",\n",
    "    \"R\",\n",
    "    \"Swift\",\n",
    "    \"Kotlin\",\n",
    "    \"Go\",\n",
    "    \"Scala\",\n",
    "    \"TypeScript\",\n",
    "    \"PHP\",\n",
    "    \"MATLAB\",\n",
    "    \"Perl\",\n",
    "    \"Django\",\n",
    "    \"Flask\",\n",
    "    \"React\",\n",
    "    \"Angular\",\n",
    "    \"Node.js\",\n",
    "    \"Spring\",\n",
    "    \"TensorFlow\",\n",
    "    \"PyTorch\"\n",
    "]\n",
    "\n",
    "# Example usage:\n",
    "for tech in technologies:\n",
    "    print(tech)\n"
   ]
  },
  {
   "cell_type": "markdown",
   "metadata": {},
   "source": [
    "Import libraries required to create excel spreadsheet\n"
   ]
  },
  {
   "cell_type": "code",
   "execution_count": null,
   "metadata": {
    "tags": []
   },
   "outputs": [],
   "source": [
    "# your code goes here\n",
    "!pip install openpyxl\n",
    "\n",
    "\n",
    "\n",
    "from openpyxl import Workbook\n",
    "import pandas as pd\n",
    "!pip install xlsxwriter\n",
    "\n",
    "\n"
   ]
  },
  {
   "cell_type": "markdown",
   "metadata": {},
   "source": [
    "Create a workbook and select the active worksheet\n"
   ]
  },
  {
   "cell_type": "code",
   "execution_count": null,
   "metadata": {
    "tags": []
   },
   "outputs": [],
   "source": [
    "# your code goes here\n",
    "from openpyxl import Workbook\n",
    "\n",
    "# Create a new workbook\n",
    "wb = Workbook()\n",
    "\n",
    "# Select the active worksheet\n",
    "ws = wb.active\n",
    "\n",
    "# Optionally, you can rename the worksheet\n",
    "ws.title = \"MySheet\"\n",
    "\n",
    "# Save the workbook to a file\n",
    "wb.save(\"example.xlsx\")\n",
    "\n",
    "# To confirm, you can check the title of the active sheet\n",
    "print(f\"Active worksheet is titled: {ws.title}\")\n"
   ]
  },
  {
   "cell_type": "markdown",
   "metadata": {},
   "source": [
    "Find the number of jobs postings for each of the technology in the above list.\n",
    "Write the technology name and the number of jobs postings into the excel spreadsheet.\n"
   ]
  },
  {
   "cell_type": "code",
   "execution_count": null,
   "metadata": {
    "tags": []
   },
   "outputs": [],
   "source": [
    "import requests\n",
    "import csv\n",
    "from openpyxl import Workbook\n",
    "from io import StringIO\n",
    "\n",
    "# Function to get the number of jobs for a given technology\n",
    "def get_number_of_jobs_L(technology, csv_data):\n",
    "    # Count the number of occurrences of the technology in the job title or skills columns\n",
    "    count = 0\n",
    "    for row in csv_data:\n",
    "        if technology.lower() in row['Job Title'].lower() or technology.lower() in row['Key Skills'].lower():\n",
    "            count += 1\n",
    "    return technology, count\n",
    "\n",
    "# URL of the CSV file on GitHub\n",
    "csv_url = \"https://raw.githubusercontent.com/AmandeepRandhawa/naukri/main/marketing_sample_for_naukri_com-jobs__20190701_20190830__30k_data.csv\"\n",
    "\n",
    "# Download the CSV file\n",
    "response = requests.get(csv_url)\n",
    "csv_file = StringIO(response.text)\n",
    "csv_reader = csv.DictReader(csv_file)\n",
    "\n",
    "# List of technologies\n",
    "technologies = [\n",
    "    \"Python\", \"Java\", \"JavaScript\", \"C++\", \"SQL\", \"Ruby\", \"HTML\", \"CSS\", \"R\", \n",
    "    \"Swift\", \"Kotlin\", \"Go\", \"Scala\", \"TypeScript\", \"PHP\", \"MATLAB\", \"Perl\", \n",
    "    \"Django\", \"Flask\", \"React\", \"Angular\", \"Node.js\", \"Spring\", \"TensorFlow\", \n",
    "    \"PyTorch\"\n",
    "]\n",
    "\n",
    "# Create a new workbook and select the active worksheet\n",
    "wb = Workbook()\n",
    "ws = wb.active\n",
    "ws.title = \"Job Postings\"\n",
    "\n",
    "# Write the headers\n",
    "ws.append([\"Technology\", \"Number of Job Postings\"])\n",
    "\n",
    "# Loop through the technologies and get the number of jobs for each\n",
    "for tech in technologies:\n",
    "    technology, number_of_jobs = get_number_of_jobs_L(tech, csv_reader)\n",
    "    # Write the results into the worksheet\n",
    "    ws.append([technology, number_of_jobs])\n",
    "\n",
    "# Save the workbook to a file\n",
    "wb.save(\"job-postings1.xlsx\")\n",
    "\n",
    "# Confirm the file creation\n",
    "print(\"Excel file 'job-postings.xlsx' has been created and saved.\")\n"
   ]
  },
  {
   "cell_type": "markdown",
   "metadata": {},
   "source": [
    "Save into an excel spreadsheet named 'github-job-postings.xlsx'.\n"
   ]
  },
  {
   "cell_type": "code",
   "execution_count": 11,
   "metadata": {},
   "outputs": [
    {
     "name": "stdout",
     "output_type": "stream",
     "text": [
      "No job postings found for the specified locations.\n"
     ]
    }
   ],
   "source": [
    "import requests\n",
    "import csv\n",
    "from collections import Counter\n",
    "from io import StringIO\n",
    "\n",
    "# Function to get the number of jobs for each location\n",
    "def get_number_of_jobs_per_location(locations, csv_data):\n",
    "    # Initialize a counter to track the number of job postings per location\n",
    "    location_counter = Counter()\n",
    "    \n",
    "    for row in csv_data:\n",
    "        location = row['Location'].strip()\n",
    "        if location in locations:\n",
    "            location_counter[location] += 1\n",
    "    \n",
    "    return location_counter\n",
    "\n",
    "# List of locations to search for\n",
    "locations = [\"Los Angeles\", \"New York\", \"San Francisco\", \"Washington DC\", \"Seattle\"]\n",
    "\n",
    "# URL of the CSV file on GitHub\n",
    "csv_url = \"https://raw.githubusercontent.com/AmandeepRandhawa/naukri/main/marketing_sample_for_naukri_com-jobs__20190701_20190830__30k_data.csv\"\n",
    "\n",
    "# Download the CSV file\n",
    "response = requests.get(csv_url)\n",
    "csv_file = StringIO(response.text)\n",
    "csv_reader = csv.DictReader(csv_file)\n",
    "\n",
    "# Get the number of job postings for each location\n",
    "location_counts = get_number_of_jobs_per_location(locations, csv_reader)\n",
    "\n",
    "# Check if location_counts is empty\n",
    "if location_counts:\n",
    "    # Find the location with the maximum number of job postings\n",
    "    max_location = max(location_counts, key=location_counts.get)\n",
    "    max_count = location_counts[max_location]\n",
    "    # Output the location with the maximum job postings and the number of postings\n",
    "    print(f\"The location with the maximum number of job postings is {max_location} with {max_count} job postings.\")\n",
    "else:\n",
    "    print(\"No job postings found for the specified locations.\")\n"
   ]
  },
  {
   "cell_type": "markdown",
   "metadata": {},
   "source": [
    "#### In the similar way, you can try for below given technologies and results  can be stored in an excel sheet.\n"
   ]
  },
  {
   "cell_type": "markdown",
   "metadata": {},
   "source": [
    "Collect the number of job postings for the following languages using the API:\n",
    "\n",
    "*   C\n",
    "*   C#\n",
    "*   C++\n",
    "*   Java\n",
    "*   JavaScript\n",
    "*   Python\n",
    "*   Scala\n",
    "*   Oracle\n",
    "*   SQL Server\n",
    "*   MySQL Server\n",
    "*   PostgreSQL\n",
    "*   MongoDB\n"
   ]
  },
  {
   "cell_type": "code",
   "execution_count": 17,
   "metadata": {},
   "outputs": [
    {
     "name": "stdout",
     "output_type": "stream",
     "text": [
      "Fieldnames in CSV: []\n",
      "Sample rows from CSV:\n",
      "OrderedDict([(None, ['<!DOCTYPE html>'])])\n",
      "OrderedDict([(None, ['<html'])])\n",
      "OrderedDict([(None, ['  lang=\"en\"'])])\n",
      "OrderedDict([(None, ['  '])])\n",
      "OrderedDict([(None, ['  data-color-mode=\"auto\" data-light-theme=\"light\" data-dark-theme=\"dark\"'])])\n",
      "Technology counts in Key Skills:\n"
     ]
    }
   ],
   "source": [
    "import requests\n",
    "import csv\n",
    "from io import StringIO\n",
    "from collections import Counter\n",
    "\n",
    "# Function to extract technologies from the 'Key Skills' column\n",
    "def extract_technologies(csv_data, technologies):\n",
    "    # Initialize a counter to keep track of technology occurrences\n",
    "    tech_counter = Counter()\n",
    "    \n",
    "    for row in csv_data:\n",
    "        key_skills = row.get('Key Skills', '').strip()\n",
    "        if key_skills:\n",
    "            # Split the key skills by commas or other delimiters\n",
    "            skills_list = [skill.strip() for skill in key_skills.split(',')]\n",
    "            for skill in skills_list:\n",
    "                if skill in technologies:\n",
    "                    tech_counter[skill] += 1\n",
    "    \n",
    "    return tech_counter\n",
    "\n",
    "# List of technologies to search for\n",
    "technologies = [\n",
    "    \"Python\", \"Java\", \"JavaScript\", \"C++\", \"SQL\", \"Ruby\", \"HTML\", \"CSS\", \"R\", \n",
    "    \"Swift\", \"Kotlin\", \"Go\", \"Scala\", \"TypeScript\", \"PHP\", \"MATLAB\", \"Perl\", \n",
    "    \"Django\", \"Flask\", \"React\", \"Angular\", \"Node.js\", \"Spring\", \"TensorFlow\", \n",
    "    \"PyTorch\"\n",
    "]\n",
    "\n",
    "# URL of the CSV file on GitHub\n",
    "csv_url = \"https://github.com/AmandeepRandhawa/naukri/blob/main/marketing_sample_for_naukri_com-jobs__20190701_20190830__30k_data.csv\"\n",
    "\n",
    "# Download the CSV file\n",
    "response = requests.get(csv_url)\n",
    "csv_file = StringIO(response.text)\n",
    "csv_reader = csv.DictReader(csv_file)\n",
    "\n",
    "# Debugging: Print the fieldnames to ensure 'Key Skills' is correct\n",
    "print(\"Fieldnames in CSV:\", csv_reader.fieldnames)\n",
    "\n",
    "# Debugging: Print the first few rows to check data\n",
    "print(\"Sample rows from CSV:\")\n",
    "for i, row in enumerate(csv_reader):\n",
    "    print(row)\n",
    "    if i >= 4:  # Print only the first 5 rows\n",
    "        break\n",
    "\n",
    "# Re-download the CSV file to reset the reader\n",
    "response = requests.get(csv_url)\n",
    "csv_file = StringIO(response.text)\n",
    "csv_reader = csv.DictReader(csv_file)\n",
    "\n",
    "# Extract technologies from the 'Key Skills' column\n",
    "tech_counts = extract_technologies(csv_reader, technologies)\n",
    "\n",
    "# Output the technology counts\n",
    "print(\"Technology counts in Key Skills:\")\n",
    "for tech, count in tech_counts.items():\n",
    "    print(f\"{tech}: {count}\")\n"
   ]
  },
  {
   "cell_type": "markdown",
   "metadata": {},
   "source": [
    "## Authors\n"
   ]
  },
  {
   "cell_type": "markdown",
   "metadata": {},
   "source": [
    "Ayushi Jain\n"
   ]
  },
  {
   "cell_type": "markdown",
   "metadata": {},
   "source": [
    "### Other Contributors\n"
   ]
  },
  {
   "cell_type": "markdown",
   "metadata": {},
   "source": [
    "Rav Ahuja\n",
    "\n",
    "Lakshmi Holla\n",
    "\n",
    "Malika\n"
   ]
  },
  {
   "cell_type": "markdown",
   "metadata": {},
   "source": [
    "Copyright © 2020 IBM Corporation. This notebook and its source code are released under the terms of the [MIT License](https://cognitiveclass.ai/mit-license?utm_medium=Exinfluencer\\&utm_source=Exinfluencer\\&utm_content=000026UJ\\&utm_term=10006555\\&utm_id=NA-SkillsNetwork-Channel-SkillsNetworkCoursesIBMDA0321ENSkillsNetwork21426264-2021-01-01\\&cm_mmc=Email_Newsletter-\\_-Developer_Ed%2BTech-\\_-WW_WW-\\_-SkillsNetwork-Courses-IBM-DA0321EN-SkillsNetwork-21426264\\&cm_mmca1=000026UJ\\&cm_mmca2=10006555\\&cm_mmca3=M12345678\\&cvosrc=email.Newsletter.M12345678\\&cvo_campaign=000026UJ).\n"
   ]
  },
  {
   "cell_type": "markdown",
   "metadata": {},
   "source": [
    "<!--## Change Log\n"
   ]
  },
  {
   "cell_type": "markdown",
   "metadata": {},
   "source": [
    "<!--| Date (YYYY-MM-DD) | Version | Changed By        | Change Description                 |\n",
    "| ----------------- | ------- | ----------------- | ---------------------------------- | \n",
    "| 2022-01-19        | 0.3     | Lakshmi Holla        | Added changes in the markdown      |\n",
    "| 2021-06-25        | 0.2     | Malika            | Updated GitHub job json link       |\n",
    "| 2020-10-17        | 0.1     | Ramesh Sannareddy | Created initial version of the lab |--!>\n"
   ]
  }
 ],
 "metadata": {
  "kernelspec": {
   "display_name": "Python",
   "language": "python",
   "name": "conda-env-python-py"
  },
  "language_info": {
   "codemirror_mode": {
    "name": "ipython",
    "version": 3
   },
   "file_extension": ".py",
   "mimetype": "text/x-python",
   "name": "python",
   "nbconvert_exporter": "python",
   "pygments_lexer": "ipython3",
   "version": "3.7.12"
  },
  "prev_pub_hash": "1b8d0eda4e37134d8622f6a7e43672215f794f9967f66a185fbdc3f7896bbb36"
 },
 "nbformat": 4,
 "nbformat_minor": 4
}
